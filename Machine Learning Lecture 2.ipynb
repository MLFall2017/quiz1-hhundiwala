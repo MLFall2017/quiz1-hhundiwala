{
 "cells": [
  {
   "cell_type": "code",
   "execution_count": 158,
   "metadata": {},
   "outputs": [
    {
     "name": "stdout",
     "output_type": "stream",
     "text": [
      "[[ 1.  3.]\n",
      " [ 4.  6.]]\n",
      "[ 1.  0.]\n"
     ]
    }
   ],
   "source": [
    "import numpy as np\n",
    "import matplotlib.pyplot as plt\n",
    "import plotly.plotly as py\n",
    "import matplotlib.pyplot as plt\n",
    "from mpl_toolkits.mplot3d import Axes3D\n",
    "fig = plt.figure()\n",
    "ax = fig.add_subplot(111, projection='3d')\n",
    "a = np.array([1,3,4,6],dtype = float).reshape(2,2)\n",
    "b = np.array([1,0],dtype = float)\n",
    "\n",
    "print(a)\n",
    "print(b)"
   ]
  },
  {
   "cell_type": "code",
   "execution_count": 3,
   "metadata": {},
   "outputs": [
    {
     "data": {
      "text/plain": [
       "array([[  1.,   9.],\n",
       "       [ 16.,  36.]])"
      ]
     },
     "execution_count": 3,
     "metadata": {},
     "output_type": "execute_result"
    }
   ],
   "source": [
    "np.square(a)\n"
   ]
  },
  {
   "cell_type": "code",
   "execution_count": 4,
   "metadata": {
    "collapsed": true
   },
   "outputs": [],
   "source": [
    "matrix = np.mat(\"1 2 3; 4 5 6; 7 8 9\")"
   ]
  },
  {
   "cell_type": "code",
   "execution_count": 5,
   "metadata": {},
   "outputs": [
    {
     "name": "stdout",
     "output_type": "stream",
     "text": [
      "[[1 2 3]\n",
      " [4 5 6]\n",
      " [7 8 9]]\n"
     ]
    }
   ],
   "source": [
    "print(matrix)"
   ]
  },
  {
   "cell_type": "code",
   "execution_count": 14,
   "metadata": {},
   "outputs": [
    {
     "data": {
      "text/plain": [
       "array([[ 0.,  0.,  0.,  0.],\n",
       "       [ 0.,  0.,  0.,  0.],\n",
       "       [ 0.,  0.,  0.,  0.]])"
      ]
     },
     "execution_count": 14,
     "metadata": {},
     "output_type": "execute_result"
    }
   ],
   "source": [
    "np.zeros((3,4))"
   ]
  },
  {
   "cell_type": "code",
   "execution_count": 17,
   "metadata": {},
   "outputs": [
    {
     "name": "stdout",
     "output_type": "stream",
     "text": [
      "[  4.   9.  12.  15.]\n"
     ]
    }
   ],
   "source": [
    "print (a+b)"
   ]
  },
  {
   "cell_type": "code",
   "execution_count": 18,
   "metadata": {},
   "outputs": [
    {
     "name": "stdout",
     "output_type": "stream",
     "text": [
      "[  3.  18.  32.  54.]\n"
     ]
    }
   ],
   "source": [
    "print(a*b)"
   ]
  },
  {
   "cell_type": "code",
   "execution_count": 19,
   "metadata": {},
   "outputs": [
    {
     "name": "stdout",
     "output_type": "stream",
     "text": [
      "[ 0.33333333  0.5         0.5         0.66666667]\n"
     ]
    }
   ],
   "source": [
    "print(a/b)"
   ]
  },
  {
   "cell_type": "code",
   "execution_count": 20,
   "metadata": {},
   "outputs": [
    {
     "name": "stdout",
     "output_type": "stream",
     "text": [
      "[ 1.  3.  4.  6.]\n"
     ]
    }
   ],
   "source": [
    "print(a%b)"
   ]
  },
  {
   "cell_type": "code",
   "execution_count": 21,
   "metadata": {},
   "outputs": [
    {
     "data": {
      "text/plain": [
       "array([ 1.,  3.,  4.,  6.])"
      ]
     },
     "execution_count": 21,
     "metadata": {},
     "output_type": "execute_result"
    }
   ],
   "source": [
    "a%b"
   ]
  },
  {
   "cell_type": "code",
   "execution_count": 2,
   "metadata": {
    "collapsed": true
   },
   "outputs": [],
   "source": []
  },
  {
   "cell_type": "code",
   "execution_count": 76,
   "metadata": {
    "collapsed": true
   },
   "outputs": [],
   "source": [
    "from numpy import genfromtxt\n",
    "my_data = genfromtxt('/Users/hhundiwala/Downloads/dataset_1.csv', delimiter=',')"
   ]
  },
  {
   "cell_type": "code",
   "execution_count": 6,
   "metadata": {},
   "outputs": [
    {
     "data": {
      "text/plain": [
       "(1001, 3)"
      ]
     },
     "execution_count": 6,
     "metadata": {},
     "output_type": "execute_result"
    }
   ],
   "source": [
    "my_data.shape\n"
   ]
  },
  {
   "cell_type": "code",
   "execution_count": 78,
   "metadata": {
    "collapsed": true
   },
   "outputs": [],
   "source": [
    "my_clean_data = my_data[2:1001,2]"
   ]
  },
  {
   "cell_type": "code",
   "execution_count": 234,
   "metadata": {},
   "outputs": [
    {
     "data": {
      "text/plain": [
       "array([[ 0.084,  0.803,  0.524],\n",
       "       [ 0.311,  1.644,  0.532],\n",
       "       [ 0.549,  2.553,  0.062],\n",
       "       ..., \n",
       "       [ 0.622,  2.858,  0.852],\n",
       "       [ 0.02 , -0.319,  0.144],\n",
       "       [ 0.76 ,  4.012,  0.353]])"
      ]
     },
     "execution_count": 234,
     "metadata": {},
     "output_type": "execute_result"
    }
   ],
   "source": [
    "my_clean_data"
   ]
  },
  {
   "cell_type": "code",
   "execution_count": null,
   "metadata": {
    "collapsed": true
   },
   "outputs": [],
   "source": [
    "\n"
   ]
  },
  {
   "cell_type": "code",
   "execution_count": null,
   "metadata": {
    "collapsed": true
   },
   "outputs": [],
   "source": []
  },
  {
   "cell_type": "code",
   "execution_count": null,
   "metadata": {},
   "outputs": [],
   "source": []
  },
  {
   "cell_type": "markdown",
   "metadata": {},
   "source": [
    "Question 1.c"
   ]
  },
  {
   "cell_type": "code",
   "execution_count": 187,
   "metadata": {
    "collapsed": true
   },
   "outputs": [],
   "source": [
    "def my_PCA(input):\n",
    "    #calculating mean of each column\n",
    "    mean = np.mean(input,0)\n",
    "    #subtracting the mean from original input matrix\n",
    "    normalised_input = np.subtract(input,mean)\n",
    "    #Taking transpose of the normalised matrix\n",
    "    normalised_input_transpose = np.transpose(normalised_input)\n",
    "    #calculating number of samples\n",
    "    num_of_samples = input.shape[0]\n",
    "    #multiplying the matrices and dividing it by \"num of samples\" to get the covarience\n",
    "    cov_mat = (np.dot(normalised_input_transpose,normalised_input))/(num_of_samples)\n",
    "    print(\"Covarience Matrix\")\n",
    "    print(cov_mat)\n",
    "    \n",
    "    #finding eigenvalues and eigenvectors\n",
    "    value,vector = np.linalg.eig(np.array(cov_mat))\n",
    "    print(\"Eigen Value\")\n",
    "    print(value)\n",
    "    print(\"EigenVector\")\n",
    "    print(vector)\n",
    "    size = vector.shape\n",
    "    print(size)\n",
    "    #finding position of maximum eigenvalue\n",
    "    max_value_one_pos = np.argmax(value)\n",
    "    #fetching the corroesponding eigenvector\n",
    "    eigen_vec_one = (vector[:,max_value_one_pos])\n",
    "    \n",
    "    #deleting max value so that we can find second largest\n",
    "    new_value = np.delete(value,max_value_one_pos)\n",
    "    #deleting corroesponding max eigenvector\n",
    "    new_vector = np.delete(vector,max_value_one_pos,1)\n",
    "    print(\"PC1\")\n",
    "    print(eigen_vec_one)\n",
    "    \n",
    "    \n",
    "    #finding position of second highest eigenvalue\n",
    "    max_value_two_pos = np.argmax(new_value)\n",
    "    #fetching the corroesponding eigenvector\n",
    "    eigen_vec_two = (new_vector[:,max_value_two_pos])\n",
    "    print(\"PC2\")\n",
    "    print(eigen_vec_two)\n",
    "    \n",
    "    prin_component = np.column_stack((eigen_vec_one,eigen_vec_two))\n",
    "    \n",
    "    print(\"Principal Components\")\n",
    "    print(prin_component)\n",
    "    \n",
    "    \n",
    "    #multiplying principal component matrix with input to get pca\n",
    "    pca_output = np.dot(normalised_input,prin_component)\n",
    "\n",
    "    return pca_output\n",
    "\n",
    "    "
   ]
  },
  {
   "cell_type": "code",
   "execution_count": 188,
   "metadata": {},
   "outputs": [
    {
     "name": "stdout",
     "output_type": "stream",
     "text": [
      "Covarience Matrix\n",
      "[[ 0.08052931  0.40202635 -0.00250789]\n",
      " [ 0.40202635  2.09690259 -0.01438026]\n",
      " [-0.00250789 -0.01438026  0.08050195]]\n",
      "Eigen Value\n",
      "[ 2.17420495  0.00332789  0.08040102]\n",
      "EigenVector\n",
      "[[ 0.18857784  0.982048    0.00448705]\n",
      " [ 0.98203351 -0.18860355  0.00623651]\n",
      " [-0.00697082 -0.00323037  0.99997049]]\n",
      "(3, 3)\n",
      "PC1\n",
      "[ 0.18857784  0.98203351 -0.00697082]\n",
      "PC2\n",
      "[ 0.00448705  0.00623651  0.99997049]\n",
      "Principal Components\n",
      "[[ 0.18857784  0.00448705]\n",
      " [ 0.98203351  0.00623651]\n",
      " [-0.00697082  0.99997049]]\n"
     ]
    }
   ],
   "source": [
    "op = my_PCA(my_clean_data)"
   ]
  },
  {
   "cell_type": "code",
   "execution_count": null,
   "metadata": {
    "collapsed": true
   },
   "outputs": [],
   "source": []
  },
  {
   "cell_type": "code",
   "execution_count": null,
   "metadata": {},
   "outputs": [],
   "source": []
  },
  {
   "cell_type": "code",
   "execution_count": null,
   "metadata": {},
   "outputs": [],
   "source": []
  },
  {
   "cell_type": "code",
   "execution_count": null,
   "metadata": {
    "collapsed": true
   },
   "outputs": [],
   "source": []
  },
  {
   "cell_type": "code",
   "execution_count": null,
   "metadata": {},
   "outputs": [],
   "source": []
  },
  {
   "cell_type": "code",
   "execution_count": null,
   "metadata": {
    "collapsed": true
   },
   "outputs": [],
   "source": []
  },
  {
   "cell_type": "code",
   "execution_count": 227,
   "metadata": {
    "collapsed": true
   },
   "outputs": [],
   "source": [
    "def my_cov(input):\n",
    "    #calculating mean of each column\n",
    "    mean = np.mean(input,0)\n",
    "    #subtracting the mean from original input matrix\n",
    "    normalised_input = np.subtract(input,mean)\n",
    "    #Taking transpose of the normalised matrix\n",
    "    normalised_input_transpose = np.transpose(normalised_input)\n",
    "    #calculating number of samples\n",
    "    num_of_samples = input.shape[0]\n",
    "    #multiplying the matrices and dividing it by \"num of samples\" to get the covarience\n",
    "    return (np.dot(normalised_input_transpose,normalised_input))/(num_of_samples)\n",
    "    "
   ]
  },
  {
   "cell_type": "code",
   "execution_count": null,
   "metadata": {
    "collapsed": true
   },
   "outputs": [],
   "source": []
  },
  {
   "cell_type": "code",
   "execution_count": null,
   "metadata": {
    "collapsed": true
   },
   "outputs": [],
   "source": []
  },
  {
   "cell_type": "code",
   "execution_count": 128,
   "metadata": {
    "collapsed": true
   },
   "outputs": [],
   "source": []
  },
  {
   "cell_type": "code",
   "execution_count": null,
   "metadata": {},
   "outputs": [],
   "source": []
  },
  {
   "cell_type": "code",
   "execution_count": 130,
   "metadata": {
    "collapsed": true
   },
   "outputs": [],
   "source": []
  },
  {
   "cell_type": "code",
   "execution_count": null,
   "metadata": {},
   "outputs": [],
   "source": []
  },
  {
   "cell_type": "markdown",
   "metadata": {
    "collapsed": true
   },
   "source": [
    "Visualising the Dataset before and after PCA\n",
    "    \n",
    "    "
   ]
  },
  {
   "cell_type": "code",
   "execution_count": null,
   "metadata": {
    "collapsed": true
   },
   "outputs": [],
   "source": []
  },
  {
   "cell_type": "code",
   "execution_count": null,
   "metadata": {},
   "outputs": [],
   "source": []
  },
  {
   "cell_type": "code",
   "execution_count": null,
   "metadata": {
    "collapsed": true
   },
   "outputs": [],
   "source": []
  },
  {
   "cell_type": "code",
   "execution_count": null,
   "metadata": {},
   "outputs": [],
   "source": []
  },
  {
   "cell_type": "code",
   "execution_count": 195,
   "metadata": {},
   "outputs": [
    {
     "data": {
      "text/plain": [
       "<matplotlib.figure.Figure at 0x11ba0ccf8>"
      ]
     },
     "metadata": {},
     "output_type": "display_data"
    },
    {
     "data": {
      "image/png": "[encoded data removed]",
      "text/plain": [
       "<matplotlib.figure.Figure at 0x11d5df128>"
      ]
     },
     "metadata": {},
     "output_type": "display_data"
    }
   ],
   "source": [
    "import matplotlib.pyplot as plt\n",
    "\n",
    "fig = plt.figure()\n",
    "ax = fig.add_subplot(1,1,1,projection=\"3d\")\n",
    "ax.scatter(my_clean_data[:,0],my_clean_data[:,1],my_clean_data[:,2])\n",
    "plt.show()"
   ]
  },
  {
   "cell_type": "code",
   "execution_count": 199,
   "metadata": {},
   "outputs": [
    {
     "data": {
      "text/plain": [
       "<matplotlib.figure.Figure at 0x11d5dfe80>"
      ]
     },
     "metadata": {},
     "output_type": "display_data"
    },
    {
     "data": {
      "text/plain": [
       "<matplotlib.figure.Figure at 0x11cfb6f98>"
      ]
     },
     "metadata": {},
     "output_type": "display_data"
    },
    {
     "data": {
      "text/plain": [
       "<matplotlib.figure.Figure at 0x11c7ddd30>"
      ]
     },
     "metadata": {},
     "output_type": "display_data"
    },
    {
     "data": {
      "image/png": "[encoded data removed]",
      "text/plain": [
       "<matplotlib.figure.Figure at 0x11bad8518>"
      ]
     },
     "metadata": {},
     "output_type": "display_data"
    }
   ],
   "source": [
    "fig = plt.figure()\n",
    "ax = fig.add_subplot(1,1,1)\n",
    "ax.scatter(op[:,0],op[:,1])\n",
    "plt.show()"
   ]
  },
  {
   "cell_type": "code",
   "execution_count": null,
   "metadata": {},
   "outputs": [],
   "source": []
  },
  {
   "cell_type": "code",
   "execution_count": null,
   "metadata": {
    "collapsed": true
   },
   "outputs": [],
   "source": [
    "\n",
    "\n",
    "\n"
   ]
  },
  {
   "cell_type": "markdown",
   "metadata": {},
   "source": [
    "Question 1.a --  Calculating Varience"
   ]
  },
  {
   "cell_type": "code",
   "execution_count": 202,
   "metadata": {},
   "outputs": [
    {
     "data": {
      "text/plain": [
       "(1000, 3)"
      ]
     },
     "execution_count": 202,
     "metadata": {},
     "output_type": "execute_result"
    }
   ],
   "source": [
    "my_clean_data.shape"
   ]
  },
  {
   "cell_type": "code",
   "execution_count": 218,
   "metadata": {},
   "outputs": [],
   "source": [
    "mean_matrix = np.mean(np.mat(my_clean_data),0)\n",
    "var_of_xyz = np.mean(np.square(np.subtract(my_clean_data,mean_matrix)),0)"
   ]
  },
  {
   "cell_type": "code",
   "execution_count": 217,
   "metadata": {},
   "outputs": [
    {
     "data": {
      "text/plain": [
       "array([[ 0.08052931,  2.09690259,  0.08050195]])"
      ]
     },
     "execution_count": 217,
     "metadata": {},
     "output_type": "execute_result"
    }
   ],
   "source": [
    "var_of_xyz"
   ]
  },
  {
   "cell_type": "markdown",
   "metadata": {},
   "source": [
    "Varience of input dataset is:\n",
    "\n",
    "x ->0.08052931\n",
    "y ->2.09690259\n",
    "z ->0.08050195"
   ]
  },
  {
   "cell_type": "code",
   "execution_count": null,
   "metadata": {},
   "outputs": [],
   "source": []
  },
  {
   "cell_type": "markdown",
   "metadata": {},
   "source": [
    "Question 1.b -- Calculating Covarience"
   ]
  },
  {
   "cell_type": "code",
   "execution_count": 233,
   "metadata": {},
   "outputs": [],
   "source": [
    "cov = my_cov(my_clean_data)"
   ]
  },
  {
   "cell_type": "code",
   "execution_count": 223,
   "metadata": {
    "collapsed": true
   },
   "outputs": [],
   "source": [
    "Covarience_X_and_Y = cov[0][1]"
   ]
  },
  {
   "cell_type": "code",
   "execution_count": 224,
   "metadata": {},
   "outputs": [
    {
     "data": {
      "text/plain": [
       "0.40202634771400003"
      ]
     },
     "execution_count": 224,
     "metadata": {},
     "output_type": "execute_result"
    }
   ],
   "source": [
    "Covarience_X_and_Y"
   ]
  },
  {
   "cell_type": "code",
   "execution_count": 230,
   "metadata": {
    "collapsed": true
   },
   "outputs": [],
   "source": [
    "Covarience_Y_and_Z = cov[1][2]"
   ]
  },
  {
   "cell_type": "code",
   "execution_count": 231,
   "metadata": {},
   "outputs": [
    {
     "data": {
      "text/plain": [
       "-0.014380262649000006"
      ]
     },
     "execution_count": 231,
     "metadata": {},
     "output_type": "execute_result"
    }
   ],
   "source": [
    "Covarience_Y_and_Z"
   ]
  },
  {
   "cell_type": "markdown",
   "metadata": {},
   "source": [
    "#Thus Covarience between X and Y, and between Y and Z are as follows, ----------\n",
    "Covarience_X_and_Y  = 0.40202634771400003,  \n",
    "Covarience_Y_and_Z  = -0.014380262649000006"
   ]
  },
  {
   "cell_type": "code",
   "execution_count": 243,
   "metadata": {
    "collapsed": true
   },
   "outputs": [],
   "source": [
    "def digonalisation(input):\n",
    "    #check if matrix is square\n",
    "    shape = input.shape\n",
    "    if(shape[0]!=shape[1]):\n",
    "        return \"Matrix is not diagonalizable\"\n",
    "    value, vector = np.linalg.eig(input)\n",
    "    \n",
    "    #check if two eigenvalues are same or not\n",
    "    check_value = np.unique(value)\n",
    "    if(check_value.size != value.size):\n",
    "        return \"Matrix is not diagonalizable\"\n",
    "    \n",
    "    #if eigen values determinant is zero\n",
    "    if(np.linalg.det(vector)==0):\n",
    "        return \"Matrix is not diagonalizable\"\n",
    "    \n",
    "    vector_inverse = np.linalg.inv(vector)\n",
    "    D = np.eye(value.size)*(value.reshape(value.size,1))\n",
    "    \n",
    "    \n",
    "    print(np.dot(np.dot(vector,D),vector_inverse))\n",
    "    print(input)"
   ]
  },
  {
   "cell_type": "markdown",
   "metadata": {},
   "source": [
    "#Question 3.b\n"
   ]
  },
  {
   "cell_type": "code",
   "execution_count": 246,
   "metadata": {},
   "outputs": [],
   "source": [
    "value, vector = np.linalg.eig(np.array([0,-1,2,3]).reshape(2,2))"
   ]
  },
  {
   "cell_type": "code",
   "execution_count": 247,
   "metadata": {},
   "outputs": [
    {
     "data": {
      "text/plain": [
       "array([ 1.,  2.])"
      ]
     },
     "execution_count": 247,
     "metadata": {},
     "output_type": "execute_result"
    }
   ],
   "source": [
    "value"
   ]
  },
  {
   "cell_type": "code",
   "execution_count": 248,
   "metadata": {},
   "outputs": [
    {
     "data": {
      "text/plain": [
       "array([[-0.70710678,  0.4472136 ],\n",
       "       [ 0.70710678, -0.89442719]])"
      ]
     },
     "execution_count": 248,
     "metadata": {},
     "output_type": "execute_result"
    }
   ],
   "source": [
    "vector"
   ]
  },
  {
   "cell_type": "markdown",
   "metadata": {},
   "source": [
    "The output by linalg.eig is not exactly same as of manual calculation, but it is logically correct.\n",
    "\n",
    "I got the equation for first eigen vector as v1 = -v2.\n",
    "\n",
    "This is satisfied by linalg.eig...I did it using value 1\n",
    "\n",
    "Equation for second eigen vector as v1 = -v2/2\n",
    "\n",
    "It is also logically correct"
   ]
  },
  {
   "cell_type": "code",
   "execution_count": null,
   "metadata": {
    "collapsed": true
   },
   "outputs": [],
   "source": []
  }
 ],
 "metadata": {
  "kernelspec": {
   "display_name": "Python 3",
   "language": "python",
   "name": "python3"
  },
  "language_info": {
   "codemirror_mode": {
    "name": "ipython",
    "version": 3
   },
   "file_extension": ".py",
   "mimetype": "text/x-python",
   "name": "python",
   "nbconvert_exporter": "python",
   "pygments_lexer": "ipython3",
   "version": "3.6.1"
  }
 },
 "nbformat": 4,
 "nbformat_minor": 2
}
